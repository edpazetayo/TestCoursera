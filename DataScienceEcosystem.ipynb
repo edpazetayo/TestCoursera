{
 "cells": [
  {
   "cell_type": "markdown",
   "id": "950af873",
   "metadata": {},
   "source": [
    "# Data Science Tools and Ecosystem\n",
    "\n"
   ]
  },
  {
   "cell_type": "markdown",
   "id": "5bbed0a5",
   "metadata": {},
   "source": [
    "In this notebook, we will summarize the Data Science Tools and Ecosystem."
   ]
  },
  {
   "cell_type": "markdown",
   "id": "95a41a0e",
   "metadata": {},
   "source": [
    "**Objectives:**\n",
    "\n",
    "- List popular languages for Data Science\n",
    "- Understand the use of libraries in Data Science\n",
    "- Learn to create and manipulate tables in markdown\n",
    "- Evaluate simple arithmetic expressions in Python\n",
    "- Convert units using Python (e.g., minutes to hours)\n"
   ]
  },
  {
   "cell_type": "markdown",
   "id": "d88d2f75",
   "metadata": {},
   "source": [
    "Some of the popular languages that Data Scientists use are:\n",
    "\n",
    "1. Python\n",
    "\n",
    "2. R\n",
    "\n",
    "3. SQL"
   ]
  },
  {
   "cell_type": "markdown",
   "id": "c3db203e",
   "metadata": {},
   "source": [
    "Some of the commonly used libraries used by Data Scientists include:\n",
    "\n",
    "1. **NumPy**: NumPy is a library for the Python programming language\n",
    "\n",
    "2. **Pandas**: Pandas is a software library written for the Python programming language for data manipulation and analysis\n",
    "\n",
    "3. **Matplotlib**: Matplotlib is a plotting library for the Python programming language and its numerical mathematics extension NumPy"
   ]
  },
  {
   "cell_type": "markdown",
   "id": "98404597",
   "metadata": {},
   "source": [
    "| Data Science Tools |\n",
    "| --- |\n",
    "| Jupyter Notebook |\n",
    "| RStudio |\n",
    "| Apache Zeppelin |\n"
   ]
  },
  {
   "cell_type": "markdown",
   "id": "0dba2360",
   "metadata": {},
   "source": [
    "### Below are a few examples of evaluating arithmetic expressions in Python\n",
    "\n",
    "\n",
    "**Addition:** 8 + 3\n",
    "\n",
    "**Subtraction:** 10 - 7\n",
    "\n",
    "**Multiplication:** 5 * 2\n",
    "\n",
    "**Division:** 8 / 2"
   ]
  },
  {
   "cell_type": "code",
   "execution_count": 9,
   "id": "f75bb3c2",
   "metadata": {},
   "outputs": [
    {
     "name": "stdout",
     "output_type": "stream",
     "text": [
      "17\n"
     ]
    }
   ],
   "source": [
    "# This is a simple arithmetic expression to multiply then add integers\n",
    "A = (3 * 4) + 5\n",
    "print(A)\n"
   ]
  },
  {
   "cell_type": "code",
   "execution_count": 10,
   "id": "f8b1e747",
   "metadata": {},
   "outputs": [
    {
     "name": "stdout",
     "output_type": "stream",
     "text": [
      "3.3333333333333335\n"
     ]
    }
   ],
   "source": [
    "# This will convert 200 minutes to hours by dividing by 60\n",
    "min = 200\n",
    "hours = min / 60\n",
    "print(hours)\n"
   ]
  },
  {
   "cell_type": "markdown",
   "id": "783ee15b",
   "metadata": {},
   "source": [
    "## Author\n",
    "Eduardo Paz\n"
   ]
  },
  {
   "cell_type": "code",
   "execution_count": null,
   "id": "8a65875c",
   "metadata": {},
   "outputs": [],
   "source": []
  }
 ],
 "metadata": {
  "kernelspec": {
   "display_name": "Python 3",
   "language": "python",
   "name": "python3"
  },
  "language_info": {
   "codemirror_mode": {
    "name": "ipython",
    "version": 3
   },
   "file_extension": ".py",
   "mimetype": "text/x-python",
   "name": "python",
   "nbconvert_exporter": "python",
   "pygments_lexer": "ipython3",
   "version": "3.8.8"
  }
 },
 "nbformat": 4,
 "nbformat_minor": 5
}
